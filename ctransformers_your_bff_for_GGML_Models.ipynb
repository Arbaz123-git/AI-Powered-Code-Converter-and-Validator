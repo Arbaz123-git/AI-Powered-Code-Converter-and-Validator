{
  "nbformat": 4,
  "nbformat_minor": 0,
  "metadata": {
    "colab": {
      "provenance": [],
      "toc_visible": true,
      "gpuType": "T4"
    },
    "kernelspec": {
      "name": "python3",
      "display_name": "Python 3"
    },
    "language_info": {
      "name": "python"
    },
    "widgets": {
      "application/vnd.jupyter.widget-state+json": {
        "146a7b83192f4d7fbf77284d3e08ca14": {
          "model_module": "@jupyter-widgets/controls",
          "model_name": "HBoxModel",
          "model_module_version": "1.5.0",
          "state": {
            "_dom_classes": [],
            "_model_module": "@jupyter-widgets/controls",
            "_model_module_version": "1.5.0",
            "_model_name": "HBoxModel",
            "_view_count": null,
            "_view_module": "@jupyter-widgets/controls",
            "_view_module_version": "1.5.0",
            "_view_name": "HBoxView",
            "box_style": "",
            "children": [
              "IPY_MODEL_9f1bc739e5704c67984b52cc11e7908c",
              "IPY_MODEL_b4b00ae6b72b4742abbf359f88dc648b",
              "IPY_MODEL_5fe985a14ac041058a2591d38751042a"
            ],
            "layout": "IPY_MODEL_6783bd81b5324654a900c427206631ce"
          }
        },
        "9f1bc739e5704c67984b52cc11e7908c": {
          "model_module": "@jupyter-widgets/controls",
          "model_name": "HTMLModel",
          "model_module_version": "1.5.0",
          "state": {
            "_dom_classes": [],
            "_model_module": "@jupyter-widgets/controls",
            "_model_module_version": "1.5.0",
            "_model_name": "HTMLModel",
            "_view_count": null,
            "_view_module": "@jupyter-widgets/controls",
            "_view_module_version": "1.5.0",
            "_view_name": "HTMLView",
            "description": "",
            "description_tooltip": null,
            "layout": "IPY_MODEL_ae39bdb684ed4d6e84403c48e68ae07b",
            "placeholder": "​",
            "style": "IPY_MODEL_8e569c582dd147299d896d66a28f51cf",
            "value": "Fetching 1 files: 100%"
          }
        },
        "b4b00ae6b72b4742abbf359f88dc648b": {
          "model_module": "@jupyter-widgets/controls",
          "model_name": "FloatProgressModel",
          "model_module_version": "1.5.0",
          "state": {
            "_dom_classes": [],
            "_model_module": "@jupyter-widgets/controls",
            "_model_module_version": "1.5.0",
            "_model_name": "FloatProgressModel",
            "_view_count": null,
            "_view_module": "@jupyter-widgets/controls",
            "_view_module_version": "1.5.0",
            "_view_name": "ProgressView",
            "bar_style": "success",
            "description": "",
            "description_tooltip": null,
            "layout": "IPY_MODEL_b610c68f11bc44aaa858a974d6445f40",
            "max": 1,
            "min": 0,
            "orientation": "horizontal",
            "style": "IPY_MODEL_7b42411c366b4ab384fdc2cad95f590a",
            "value": 1
          }
        },
        "5fe985a14ac041058a2591d38751042a": {
          "model_module": "@jupyter-widgets/controls",
          "model_name": "HTMLModel",
          "model_module_version": "1.5.0",
          "state": {
            "_dom_classes": [],
            "_model_module": "@jupyter-widgets/controls",
            "_model_module_version": "1.5.0",
            "_model_name": "HTMLModel",
            "_view_count": null,
            "_view_module": "@jupyter-widgets/controls",
            "_view_module_version": "1.5.0",
            "_view_name": "HTMLView",
            "description": "",
            "description_tooltip": null,
            "layout": "IPY_MODEL_ef79ab03d0dd4bff8ca8e26405dfdb83",
            "placeholder": "​",
            "style": "IPY_MODEL_3d623a70d6cf41269bd27043150b5288",
            "value": " 1/1 [00:00&lt;00:00, 16.97it/s]"
          }
        },
        "6783bd81b5324654a900c427206631ce": {
          "model_module": "@jupyter-widgets/base",
          "model_name": "LayoutModel",
          "model_module_version": "1.2.0",
          "state": {
            "_model_module": "@jupyter-widgets/base",
            "_model_module_version": "1.2.0",
            "_model_name": "LayoutModel",
            "_view_count": null,
            "_view_module": "@jupyter-widgets/base",
            "_view_module_version": "1.2.0",
            "_view_name": "LayoutView",
            "align_content": null,
            "align_items": null,
            "align_self": null,
            "border": null,
            "bottom": null,
            "display": null,
            "flex": null,
            "flex_flow": null,
            "grid_area": null,
            "grid_auto_columns": null,
            "grid_auto_flow": null,
            "grid_auto_rows": null,
            "grid_column": null,
            "grid_gap": null,
            "grid_row": null,
            "grid_template_areas": null,
            "grid_template_columns": null,
            "grid_template_rows": null,
            "height": null,
            "justify_content": null,
            "justify_items": null,
            "left": null,
            "margin": null,
            "max_height": null,
            "max_width": null,
            "min_height": null,
            "min_width": null,
            "object_fit": null,
            "object_position": null,
            "order": null,
            "overflow": null,
            "overflow_x": null,
            "overflow_y": null,
            "padding": null,
            "right": null,
            "top": null,
            "visibility": null,
            "width": null
          }
        },
        "ae39bdb684ed4d6e84403c48e68ae07b": {
          "model_module": "@jupyter-widgets/base",
          "model_name": "LayoutModel",
          "model_module_version": "1.2.0",
          "state": {
            "_model_module": "@jupyter-widgets/base",
            "_model_module_version": "1.2.0",
            "_model_name": "LayoutModel",
            "_view_count": null,
            "_view_module": "@jupyter-widgets/base",
            "_view_module_version": "1.2.0",
            "_view_name": "LayoutView",
            "align_content": null,
            "align_items": null,
            "align_self": null,
            "border": null,
            "bottom": null,
            "display": null,
            "flex": null,
            "flex_flow": null,
            "grid_area": null,
            "grid_auto_columns": null,
            "grid_auto_flow": null,
            "grid_auto_rows": null,
            "grid_column": null,
            "grid_gap": null,
            "grid_row": null,
            "grid_template_areas": null,
            "grid_template_columns": null,
            "grid_template_rows": null,
            "height": null,
            "justify_content": null,
            "justify_items": null,
            "left": null,
            "margin": null,
            "max_height": null,
            "max_width": null,
            "min_height": null,
            "min_width": null,
            "object_fit": null,
            "object_position": null,
            "order": null,
            "overflow": null,
            "overflow_x": null,
            "overflow_y": null,
            "padding": null,
            "right": null,
            "top": null,
            "visibility": null,
            "width": null
          }
        },
        "8e569c582dd147299d896d66a28f51cf": {
          "model_module": "@jupyter-widgets/controls",
          "model_name": "DescriptionStyleModel",
          "model_module_version": "1.5.0",
          "state": {
            "_model_module": "@jupyter-widgets/controls",
            "_model_module_version": "1.5.0",
            "_model_name": "DescriptionStyleModel",
            "_view_count": null,
            "_view_module": "@jupyter-widgets/base",
            "_view_module_version": "1.2.0",
            "_view_name": "StyleView",
            "description_width": ""
          }
        },
        "b610c68f11bc44aaa858a974d6445f40": {
          "model_module": "@jupyter-widgets/base",
          "model_name": "LayoutModel",
          "model_module_version": "1.2.0",
          "state": {
            "_model_module": "@jupyter-widgets/base",
            "_model_module_version": "1.2.0",
            "_model_name": "LayoutModel",
            "_view_count": null,
            "_view_module": "@jupyter-widgets/base",
            "_view_module_version": "1.2.0",
            "_view_name": "LayoutView",
            "align_content": null,
            "align_items": null,
            "align_self": null,
            "border": null,
            "bottom": null,
            "display": null,
            "flex": null,
            "flex_flow": null,
            "grid_area": null,
            "grid_auto_columns": null,
            "grid_auto_flow": null,
            "grid_auto_rows": null,
            "grid_column": null,
            "grid_gap": null,
            "grid_row": null,
            "grid_template_areas": null,
            "grid_template_columns": null,
            "grid_template_rows": null,
            "height": null,
            "justify_content": null,
            "justify_items": null,
            "left": null,
            "margin": null,
            "max_height": null,
            "max_width": null,
            "min_height": null,
            "min_width": null,
            "object_fit": null,
            "object_position": null,
            "order": null,
            "overflow": null,
            "overflow_x": null,
            "overflow_y": null,
            "padding": null,
            "right": null,
            "top": null,
            "visibility": null,
            "width": null
          }
        },
        "7b42411c366b4ab384fdc2cad95f590a": {
          "model_module": "@jupyter-widgets/controls",
          "model_name": "ProgressStyleModel",
          "model_module_version": "1.5.0",
          "state": {
            "_model_module": "@jupyter-widgets/controls",
            "_model_module_version": "1.5.0",
            "_model_name": "ProgressStyleModel",
            "_view_count": null,
            "_view_module": "@jupyter-widgets/base",
            "_view_module_version": "1.2.0",
            "_view_name": "StyleView",
            "bar_color": null,
            "description_width": ""
          }
        },
        "ef79ab03d0dd4bff8ca8e26405dfdb83": {
          "model_module": "@jupyter-widgets/base",
          "model_name": "LayoutModel",
          "model_module_version": "1.2.0",
          "state": {
            "_model_module": "@jupyter-widgets/base",
            "_model_module_version": "1.2.0",
            "_model_name": "LayoutModel",
            "_view_count": null,
            "_view_module": "@jupyter-widgets/base",
            "_view_module_version": "1.2.0",
            "_view_name": "LayoutView",
            "align_content": null,
            "align_items": null,
            "align_self": null,
            "border": null,
            "bottom": null,
            "display": null,
            "flex": null,
            "flex_flow": null,
            "grid_area": null,
            "grid_auto_columns": null,
            "grid_auto_flow": null,
            "grid_auto_rows": null,
            "grid_column": null,
            "grid_gap": null,
            "grid_row": null,
            "grid_template_areas": null,
            "grid_template_columns": null,
            "grid_template_rows": null,
            "height": null,
            "justify_content": null,
            "justify_items": null,
            "left": null,
            "margin": null,
            "max_height": null,
            "max_width": null,
            "min_height": null,
            "min_width": null,
            "object_fit": null,
            "object_position": null,
            "order": null,
            "overflow": null,
            "overflow_x": null,
            "overflow_y": null,
            "padding": null,
            "right": null,
            "top": null,
            "visibility": null,
            "width": null
          }
        },
        "3d623a70d6cf41269bd27043150b5288": {
          "model_module": "@jupyter-widgets/controls",
          "model_name": "DescriptionStyleModel",
          "model_module_version": "1.5.0",
          "state": {
            "_model_module": "@jupyter-widgets/controls",
            "_model_module_version": "1.5.0",
            "_model_name": "DescriptionStyleModel",
            "_view_count": null,
            "_view_module": "@jupyter-widgets/base",
            "_view_module_version": "1.2.0",
            "_view_name": "StyleView",
            "description_width": ""
          }
        },
        "471c2a9939ba4aa3a4888e8abef84369": {
          "model_module": "@jupyter-widgets/controls",
          "model_name": "HBoxModel",
          "model_module_version": "1.5.0",
          "state": {
            "_dom_classes": [],
            "_model_module": "@jupyter-widgets/controls",
            "_model_module_version": "1.5.0",
            "_model_name": "HBoxModel",
            "_view_count": null,
            "_view_module": "@jupyter-widgets/controls",
            "_view_module_version": "1.5.0",
            "_view_name": "HBoxView",
            "box_style": "",
            "children": [
              "IPY_MODEL_659deb92026647e098ea7b6f4f528411",
              "IPY_MODEL_fc07e5cf280d4caaabb2f363455e7145",
              "IPY_MODEL_fdd6d83d822640e3a707f941d5e83580"
            ],
            "layout": "IPY_MODEL_b7461d24ac734f95b8e1b17845ff5d2b"
          }
        },
        "659deb92026647e098ea7b6f4f528411": {
          "model_module": "@jupyter-widgets/controls",
          "model_name": "HTMLModel",
          "model_module_version": "1.5.0",
          "state": {
            "_dom_classes": [],
            "_model_module": "@jupyter-widgets/controls",
            "_model_module_version": "1.5.0",
            "_model_name": "HTMLModel",
            "_view_count": null,
            "_view_module": "@jupyter-widgets/controls",
            "_view_module_version": "1.5.0",
            "_view_name": "HTMLView",
            "description": "",
            "description_tooltip": null,
            "layout": "IPY_MODEL_43fb4ac868414ae3bac9cd963bcc92af",
            "placeholder": "​",
            "style": "IPY_MODEL_9f39e3b9c4c342cdbc96cdb920b69fb4",
            "value": "Fetching 1 files: 100%"
          }
        },
        "fc07e5cf280d4caaabb2f363455e7145": {
          "model_module": "@jupyter-widgets/controls",
          "model_name": "FloatProgressModel",
          "model_module_version": "1.5.0",
          "state": {
            "_dom_classes": [],
            "_model_module": "@jupyter-widgets/controls",
            "_model_module_version": "1.5.0",
            "_model_name": "FloatProgressModel",
            "_view_count": null,
            "_view_module": "@jupyter-widgets/controls",
            "_view_module_version": "1.5.0",
            "_view_name": "ProgressView",
            "bar_style": "success",
            "description": "",
            "description_tooltip": null,
            "layout": "IPY_MODEL_7bbf9579d8394aa19948c8797789ffd4",
            "max": 1,
            "min": 0,
            "orientation": "horizontal",
            "style": "IPY_MODEL_1707b55180b54e1c86b7a4c4ba29ca69",
            "value": 1
          }
        },
        "fdd6d83d822640e3a707f941d5e83580": {
          "model_module": "@jupyter-widgets/controls",
          "model_name": "HTMLModel",
          "model_module_version": "1.5.0",
          "state": {
            "_dom_classes": [],
            "_model_module": "@jupyter-widgets/controls",
            "_model_module_version": "1.5.0",
            "_model_name": "HTMLModel",
            "_view_count": null,
            "_view_module": "@jupyter-widgets/controls",
            "_view_module_version": "1.5.0",
            "_view_name": "HTMLView",
            "description": "",
            "description_tooltip": null,
            "layout": "IPY_MODEL_c68ef319f06e422794b90a7afc38d999",
            "placeholder": "​",
            "style": "IPY_MODEL_474f2fc35dc845d3b24f4a41f7cbbb4e",
            "value": " 1/1 [00:00&lt;00:00, 26.62it/s]"
          }
        },
        "b7461d24ac734f95b8e1b17845ff5d2b": {
          "model_module": "@jupyter-widgets/base",
          "model_name": "LayoutModel",
          "model_module_version": "1.2.0",
          "state": {
            "_model_module": "@jupyter-widgets/base",
            "_model_module_version": "1.2.0",
            "_model_name": "LayoutModel",
            "_view_count": null,
            "_view_module": "@jupyter-widgets/base",
            "_view_module_version": "1.2.0",
            "_view_name": "LayoutView",
            "align_content": null,
            "align_items": null,
            "align_self": null,
            "border": null,
            "bottom": null,
            "display": null,
            "flex": null,
            "flex_flow": null,
            "grid_area": null,
            "grid_auto_columns": null,
            "grid_auto_flow": null,
            "grid_auto_rows": null,
            "grid_column": null,
            "grid_gap": null,
            "grid_row": null,
            "grid_template_areas": null,
            "grid_template_columns": null,
            "grid_template_rows": null,
            "height": null,
            "justify_content": null,
            "justify_items": null,
            "left": null,
            "margin": null,
            "max_height": null,
            "max_width": null,
            "min_height": null,
            "min_width": null,
            "object_fit": null,
            "object_position": null,
            "order": null,
            "overflow": null,
            "overflow_x": null,
            "overflow_y": null,
            "padding": null,
            "right": null,
            "top": null,
            "visibility": null,
            "width": null
          }
        },
        "43fb4ac868414ae3bac9cd963bcc92af": {
          "model_module": "@jupyter-widgets/base",
          "model_name": "LayoutModel",
          "model_module_version": "1.2.0",
          "state": {
            "_model_module": "@jupyter-widgets/base",
            "_model_module_version": "1.2.0",
            "_model_name": "LayoutModel",
            "_view_count": null,
            "_view_module": "@jupyter-widgets/base",
            "_view_module_version": "1.2.0",
            "_view_name": "LayoutView",
            "align_content": null,
            "align_items": null,
            "align_self": null,
            "border": null,
            "bottom": null,
            "display": null,
            "flex": null,
            "flex_flow": null,
            "grid_area": null,
            "grid_auto_columns": null,
            "grid_auto_flow": null,
            "grid_auto_rows": null,
            "grid_column": null,
            "grid_gap": null,
            "grid_row": null,
            "grid_template_areas": null,
            "grid_template_columns": null,
            "grid_template_rows": null,
            "height": null,
            "justify_content": null,
            "justify_items": null,
            "left": null,
            "margin": null,
            "max_height": null,
            "max_width": null,
            "min_height": null,
            "min_width": null,
            "object_fit": null,
            "object_position": null,
            "order": null,
            "overflow": null,
            "overflow_x": null,
            "overflow_y": null,
            "padding": null,
            "right": null,
            "top": null,
            "visibility": null,
            "width": null
          }
        },
        "9f39e3b9c4c342cdbc96cdb920b69fb4": {
          "model_module": "@jupyter-widgets/controls",
          "model_name": "DescriptionStyleModel",
          "model_module_version": "1.5.0",
          "state": {
            "_model_module": "@jupyter-widgets/controls",
            "_model_module_version": "1.5.0",
            "_model_name": "DescriptionStyleModel",
            "_view_count": null,
            "_view_module": "@jupyter-widgets/base",
            "_view_module_version": "1.2.0",
            "_view_name": "StyleView",
            "description_width": ""
          }
        },
        "7bbf9579d8394aa19948c8797789ffd4": {
          "model_module": "@jupyter-widgets/base",
          "model_name": "LayoutModel",
          "model_module_version": "1.2.0",
          "state": {
            "_model_module": "@jupyter-widgets/base",
            "_model_module_version": "1.2.0",
            "_model_name": "LayoutModel",
            "_view_count": null,
            "_view_module": "@jupyter-widgets/base",
            "_view_module_version": "1.2.0",
            "_view_name": "LayoutView",
            "align_content": null,
            "align_items": null,
            "align_self": null,
            "border": null,
            "bottom": null,
            "display": null,
            "flex": null,
            "flex_flow": null,
            "grid_area": null,
            "grid_auto_columns": null,
            "grid_auto_flow": null,
            "grid_auto_rows": null,
            "grid_column": null,
            "grid_gap": null,
            "grid_row": null,
            "grid_template_areas": null,
            "grid_template_columns": null,
            "grid_template_rows": null,
            "height": null,
            "justify_content": null,
            "justify_items": null,
            "left": null,
            "margin": null,
            "max_height": null,
            "max_width": null,
            "min_height": null,
            "min_width": null,
            "object_fit": null,
            "object_position": null,
            "order": null,
            "overflow": null,
            "overflow_x": null,
            "overflow_y": null,
            "padding": null,
            "right": null,
            "top": null,
            "visibility": null,
            "width": null
          }
        },
        "1707b55180b54e1c86b7a4c4ba29ca69": {
          "model_module": "@jupyter-widgets/controls",
          "model_name": "ProgressStyleModel",
          "model_module_version": "1.5.0",
          "state": {
            "_model_module": "@jupyter-widgets/controls",
            "_model_module_version": "1.5.0",
            "_model_name": "ProgressStyleModel",
            "_view_count": null,
            "_view_module": "@jupyter-widgets/base",
            "_view_module_version": "1.2.0",
            "_view_name": "StyleView",
            "bar_color": null,
            "description_width": ""
          }
        },
        "c68ef319f06e422794b90a7afc38d999": {
          "model_module": "@jupyter-widgets/base",
          "model_name": "LayoutModel",
          "model_module_version": "1.2.0",
          "state": {
            "_model_module": "@jupyter-widgets/base",
            "_model_module_version": "1.2.0",
            "_model_name": "LayoutModel",
            "_view_count": null,
            "_view_module": "@jupyter-widgets/base",
            "_view_module_version": "1.2.0",
            "_view_name": "LayoutView",
            "align_content": null,
            "align_items": null,
            "align_self": null,
            "border": null,
            "bottom": null,
            "display": null,
            "flex": null,
            "flex_flow": null,
            "grid_area": null,
            "grid_auto_columns": null,
            "grid_auto_flow": null,
            "grid_auto_rows": null,
            "grid_column": null,
            "grid_gap": null,
            "grid_row": null,
            "grid_template_areas": null,
            "grid_template_columns": null,
            "grid_template_rows": null,
            "height": null,
            "justify_content": null,
            "justify_items": null,
            "left": null,
            "margin": null,
            "max_height": null,
            "max_width": null,
            "min_height": null,
            "min_width": null,
            "object_fit": null,
            "object_position": null,
            "order": null,
            "overflow": null,
            "overflow_x": null,
            "overflow_y": null,
            "padding": null,
            "right": null,
            "top": null,
            "visibility": null,
            "width": null
          }
        },
        "474f2fc35dc845d3b24f4a41f7cbbb4e": {
          "model_module": "@jupyter-widgets/controls",
          "model_name": "DescriptionStyleModel",
          "model_module_version": "1.5.0",
          "state": {
            "_model_module": "@jupyter-widgets/controls",
            "_model_module_version": "1.5.0",
            "_model_name": "DescriptionStyleModel",
            "_view_count": null,
            "_view_module": "@jupyter-widgets/base",
            "_view_module_version": "1.2.0",
            "_view_name": "StyleView",
            "description_width": ""
          }
        }
      }
    }
  },
  "cells": [
    {
      "cell_type": "markdown",
      "source": [
        "Reasons of LLMs half reponses:\n",
        "\n",
        "1. Token limits.\n",
        "\n",
        "2. Context length exceeded\n",
        "\n",
        "3. Server constraints\n",
        "\n",
        "4. Rate limiting\n",
        "\n",
        "5. Content restrictions\n",
        "\n",
        "6. Timeouts\n",
        "\n",
        "7. User-specific truncation settings."
      ],
      "metadata": {
        "id": "T0iiksqIxg8w"
      }
    },
    {
      "cell_type": "code",
      "execution_count": 4,
      "metadata": {
        "id": "6f8W79cYNBAg"
      },
      "outputs": [],
      "source": [
        "! pip install ctransformers -q"
      ]
    },
    {
      "cell_type": "code",
      "source": [
        "from ctransformers import AutoModelForCausalLM\n",
        "\n",
        "llm = AutoModelForCausalLM.from_pretrained('TheBloke/Mistral-7B-Instruct-v0.2-GGUF', model_file = 'mistral-7b-instruct-v0.2.Q6_K.gguf' )\n"
      ],
      "metadata": {
        "id": "ZTWpIfm_NG0s",
        "outputId": "010bf231-b676-4fa3-c050-299192af1e16",
        "colab": {
          "base_uri": "https://localhost:8080/",
          "height": 81,
          "referenced_widgets": [
            "146a7b83192f4d7fbf77284d3e08ca14",
            "9f1bc739e5704c67984b52cc11e7908c",
            "b4b00ae6b72b4742abbf359f88dc648b",
            "5fe985a14ac041058a2591d38751042a",
            "6783bd81b5324654a900c427206631ce",
            "ae39bdb684ed4d6e84403c48e68ae07b",
            "8e569c582dd147299d896d66a28f51cf",
            "b610c68f11bc44aaa858a974d6445f40",
            "7b42411c366b4ab384fdc2cad95f590a",
            "ef79ab03d0dd4bff8ca8e26405dfdb83",
            "3d623a70d6cf41269bd27043150b5288",
            "471c2a9939ba4aa3a4888e8abef84369",
            "659deb92026647e098ea7b6f4f528411",
            "fc07e5cf280d4caaabb2f363455e7145",
            "fdd6d83d822640e3a707f941d5e83580",
            "b7461d24ac734f95b8e1b17845ff5d2b",
            "43fb4ac868414ae3bac9cd963bcc92af",
            "9f39e3b9c4c342cdbc96cdb920b69fb4",
            "7bbf9579d8394aa19948c8797789ffd4",
            "1707b55180b54e1c86b7a4c4ba29ca69",
            "c68ef319f06e422794b90a7afc38d999",
            "474f2fc35dc845d3b24f4a41f7cbbb4e"
          ]
        }
      },
      "execution_count": 5,
      "outputs": [
        {
          "output_type": "display_data",
          "data": {
            "text/plain": [
              "Fetching 1 files:   0%|          | 0/1 [00:00<?, ?it/s]"
            ],
            "application/vnd.jupyter.widget-view+json": {
              "version_major": 2,
              "version_minor": 0,
              "model_id": "146a7b83192f4d7fbf77284d3e08ca14"
            }
          },
          "metadata": {}
        },
        {
          "output_type": "display_data",
          "data": {
            "text/plain": [
              "Fetching 1 files:   0%|          | 0/1 [00:00<?, ?it/s]"
            ],
            "application/vnd.jupyter.widget-view+json": {
              "version_major": 2,
              "version_minor": 0,
              "model_id": "471c2a9939ba4aa3a4888e8abef84369"
            }
          },
          "metadata": {}
        }
      ]
    },
    {
      "cell_type": "code",
      "source": [
        "for word in llm(\"Convert the code in Python Language. The Java code is:\\n\"\n",
        "                \"int number = 5;\\n\"\n",
        "                \";\\n\"\n",
        "                \"int sum = x + y;\\n\"\n",
        "                \"System.out.println(sum);\", stream=True):\n",
        "    print(word, end='')\n"
      ],
      "metadata": {
        "id": "gBM8KKbZNoQd",
        "outputId": "9fae7c6b-e151-4b8a-9d88-3ba78c5ed386",
        "colab": {
          "base_uri": "https://localhost:8080/"
        }
      },
      "execution_count": 6,
      "outputs": [
        {
          "output_type": "stream",
          "name": "stdout",
          "text": [
            "\n",
            "In Python, it would look like this:\n",
            "```python\n",
            "number = 5\n",
            "x = 3\n",
            "y = 2\n",
            "sum = number + x + y\n",
            "print(sum)\n",
            "```\n",
            "This code initializes the variable `number` with the value 5, and then defines two variables `x` and `y` with the values 3 and 2 respectively. The sum of these three variables is calculated and stored in the variable `sum`, and finally, the result is printed out using the `print()` function."
          ]
        }
      ]
    },
    {
      "cell_type": "markdown",
      "source": [
        "#### Code conversion using LLM"
      ],
      "metadata": {
        "id": "ZlRXnhfbBbwp"
      }
    },
    {
      "cell_type": "code",
      "source": [
        "for word in llm(\n",
        "    \"Convert the following Java code to Python:\\n\"\n",
        "    \"\\n\"\n",
        "    \"int number = 5;\\n\"\n",
        "    \"// Find out if the number above is even or odd\\n\"\n",
        "    \"if (number % 2 == 0) {\\n\"\n",
        "    \"  System.out.println(number + \\\" is even.\\\");\\n\"\n",
        "    \"} else {\\n\"\n",
        "    \"  System.out.println(number + \\\" is odd.\\\");\\n\"\n",
        "    \"}\",\n",
        "    stream=True,\n",
        "):\n",
        "    print(word, end='')\n"
      ],
      "metadata": {
        "id": "cks0unPXPSIj",
        "outputId": "f8717218-02a6-41db-8d8b-a4f168cea4bb",
        "colab": {
          "base_uri": "https://localhost:8080/"
        }
      },
      "execution_count": 7,
      "outputs": [
        {
          "output_type": "stream",
          "name": "stdout",
          "text": [
            "\n",
            "\n",
            "Here's the equivalent Python code:\n",
            "\n",
            "number = 5\n",
            "if number % 2 == 0:\n",
            "    print(number, \"is even.\")\n",
            "else:\n",
            "    print(number, \"is odd.\")"
          ]
        }
      ]
    },
    {
      "cell_type": "markdown",
      "source": [
        "#### Code validation using LLM"
      ],
      "metadata": {
        "id": "xNcqOPiJBhu0"
      }
    },
    {
      "cell_type": "code",
      "source": [
        "# Define the Python code to be validated\n",
        "python_code = \"\"\"\n",
        "num = 11\n",
        "# Negative numbers, 0 and 1 are not primes\n",
        "if num > 1:\n",
        "\n",
        "    # Iterate from 2 to n // 2\n",
        "    for i in range(2, (num//2)+1):\n",
        "\n",
        "        # If num is divisible by any number between\n",
        "        # 2 and n / 2, it is not prime\n",
        "        if (num % i) == 0:\n",
        "            print(num, \"is not a prime number\")\n",
        "            break\n",
        "    else:\n",
        "        print(num, \"is a prime number\")\n",
        "else:\n",
        "    print(num, \"is not a prime number\")\n",
        "\"\"\"\n",
        "\n",
        "# Construct the validation prompt\n",
        "prompt = f\"Validate the following Python code for correctness. Explain any issues or confirm if it's correct:\\n{python_code}\"\n",
        "\n",
        "# Generate response from the LLM\n",
        "for word in llm(prompt, stream=True):\n",
        "    print(word, end='')\n"
      ],
      "metadata": {
        "id": "p_U4FSoc_x-f",
        "outputId": "95573f2d-832b-4298-f4e7-995b791a22cf",
        "colab": {
          "base_uri": "https://localhost:8080/"
        }
      },
      "execution_count": 8,
      "outputs": [
        {
          "output_type": "stream",
          "name": "stdout",
          "text": [
            "\n",
            "This code checks whether the given number is a prime number or not by iterating from 2 to n//2 and checking if the number is divisible by any of those numbers. If it is, then the number is not a prime number and the loop breaks. Otherwise, after completing the loop, we know that the number is a prime number and we print it as such. The base case for the recursion is when num is less than or equal to 1, which are not considered prime numbers.\n",
            "\n",
            "The code appears to be correct assuming that the intent is to check prime numbers up to n (inclusive). However, there are some potential improvements:\n",
            "\n",
            "1. Instead of checking up to n//2, we could optimize the algorithm by only checking up to the square root of n since if a larger factor exists, it must have an even smaller factor that has already been checked. This would significantly reduce the number of iterations required for large numbers.\n",
            "\n",
            "Here's how the improved code would look:\n",
            "\n",
            "```python\n",
            "import math\n",
            "num = 11\n",
            "# Negative numbers and 0 are not primes\n",
            "if num <= 0:\n",
            "    print(num, \"is not a prime number"
          ]
        }
      ]
    },
    {
      "cell_type": "markdown",
      "source": [
        "Output given by LLM is absolutely correct."
      ],
      "metadata": {
        "id": "ZvZstW9oEq4w"
      }
    },
    {
      "cell_type": "markdown",
      "source": [
        "#### Code Testing using LLM"
      ],
      "metadata": {
        "id": "3sE43PubDv81"
      }
    },
    {
      "cell_type": "code",
      "source": [
        "# Define the Python code to be validated and tested\n",
        "python_code = \"\"\"\n",
        "num = 5\n",
        "# Negative numbers, 0 and 1 are not primes\n",
        "if num > 1:\n",
        "\n",
        "    # Iterate from 2 to n // 2\n",
        "    for i in range(2, (num//2)+1):\n",
        "\n",
        "        # If num is divisible by any number between\n",
        "        # 2 and n / 2, it is not prime\n",
        "        if (num % i) == 0:\n",
        "            print(num, \"is not a prime number\")\n",
        "            break\n",
        "    else:\n",
        "        print(num, \"is a prime number\")\n",
        "else:\n",
        "    print(num, \"is not a prime number\")\n",
        "\"\"\"\n",
        "\n",
        "# Construct the prompt for testing\n",
        "prompt = f\"Validate the following Python code and test it with num = 5. Provide the output and explain if the code works correctly:\\n{python_code}\"\n",
        "\n",
        "# Generate response from the LLM\n",
        "for word in llm(prompt, stream=True):\n",
        "    print(word, end='')\n"
      ],
      "metadata": {
        "id": "ZTSEMbOpDu-9",
        "outputId": "5b0f6a75-f900-4195-c627-89ba975aeafc",
        "colab": {
          "base_uri": "https://localhost:8080/"
        }
      },
      "execution_count": 9,
      "outputs": [
        {
          "output_type": "stream",
          "name": "stdout",
          "text": [
            "\n",
            "Output:\n",
            "num is a prime number\n",
            "\n",
            "Explanation: The code checks if the input number `num` is less than or equal to 1. If so, it prints that num is not a prime number and ends execution (since the `else` clause won't be executed). However, in this test case, we have given `num = 5` which is greater than 1. The code then checks if there exists any integer 'i' from 2 up to half of the num that can divide the input number evenly (i.e., leaves a remainder of zero when divided). Since `num = 5`, it checks for integers 2, 3 and 4 (up to num//2+1). None of them can divide 5 evenly as their remainders are 1, 1, and 0 respectively. Hence, the loop ends, and the else clause is executed, printing `num` is a prime number`. The code works correctly for this input value."
          ]
        }
      ]
    },
    {
      "cell_type": "markdown",
      "source": [
        "LLM works upto is expectations and give correct output. In the remainder part there was mistake done by LLM as the remainder will be 1, 2, 1 and not 1, 1, 0 . This issue can be solved by leveraging bigger LLM models( Open AI Models). Mistral OpenSource model also worked well in Code Conversion, Validation and Testing ."
      ],
      "metadata": {
        "id": "LZVepAzeGUFI"
      }
    },
    {
      "cell_type": "code",
      "source": [],
      "metadata": {
        "id": "WkNs57XBIN_I"
      },
      "execution_count": null,
      "outputs": []
    }
  ]
}